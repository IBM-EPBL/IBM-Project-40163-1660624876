{
 "cells": [
  {
   "cell_type": "code",
   "execution_count": 1,
   "id": "44dbd277",
   "metadata": {},
   "outputs": [],
   "source": [
    "from keras.preprocessing.image import ImageDataGenerator\n",
    "train_datagen = ImageDataGenerator(rescale = 1./255, shear_range=0.2, zoom_range=0.2, horizontal_flip=True)\n",
    "test_datagen = ImageDataGenerator(rescale = 1./255)"
   ]
  },
  {
   "cell_type": "code",
   "execution_count": 2,
   "id": "9328c99f",
   "metadata": {},
   "outputs": [
    {
     "name": "stdout",
     "output_type": "stream",
     "text": [
      " Volume in drive C is OS\n",
      " Volume Serial Number is FEB7-9F7D\n",
      "\n",
      " Directory of C:\\Users\\Asus\\Desktop\\Final output\n",
      "\n",
      "05-11-2022  20:09    <DIR>          .\n",
      "05-11-2022  20:09    <DIR>          ..\n",
      "05-11-2022  19:39    <DIR>          .ipynb_checkpoints\n",
      "04-11-2022  16:21        17,811,216 aslpng1.h5\n",
      "04-11-2022  13:58    <DIR>          dataset\n",
      "05-11-2022  20:09            16,829 flask build.ipynb\n",
      "04-11-2022  14:00    <DIR>          static\n",
      "05-11-2022  19:52    <DIR>          templetes\n",
      "05-11-2022  19:23             2,117 test.ipynb\n",
      "04-11-2022  16:22             6,724 train.ipynb\n",
      "05-11-2022  19:07            16,864 Untitled.ipynb\n",
      "               5 File(s)     17,853,750 bytes\n",
      "               6 Dir(s)  143,964,479,488 bytes free\n"
     ]
    }
   ],
   "source": [
    "ls"
   ]
  },
  {
   "cell_type": "code",
   "execution_count": 3,
   "id": "0d768a31",
   "metadata": {},
   "outputs": [
    {
     "name": "stdout",
     "output_type": "stream",
     "text": [
      "Found 15750 images belonging to 9 classes.\n"
     ]
    }
   ],
   "source": [
    "x_train = train_datagen.flow_from_directory(r'C:\\Users\\Asus\\Desktop\\Final output\\dataset\\training_set',target_size=(64,64), batch_size=300,class_mode='categorical', color_mode = \"grayscale\")"
   ]
  },
  {
   "cell_type": "code",
   "execution_count": 4,
   "id": "477c1cf1",
   "metadata": {},
   "outputs": [
    {
     "name": "stdout",
     "output_type": "stream",
     "text": [
      "Found 2250 images belonging to 9 classes.\n"
     ]
    }
   ],
   "source": [
    "x_test = test_datagen.flow_from_directory(r'C:\\Users\\Asus\\Desktop\\Final output\\dataset\\test_set',target_size=(64,64),batch_size=300,class_mode='categorical', color_mode = \"grayscale\")"
   ]
  },
  {
   "cell_type": "code",
   "execution_count": 5,
   "id": "bb9cba7d",
   "metadata": {},
   "outputs": [],
   "source": [
    "from keras.models import Sequential\n",
    "from keras.layers import Dense\n",
    "from keras.layers import Convolution2D\n",
    "from keras.layers import MaxPooling2D\n",
    "from keras.layers import Dropout\n",
    "from keras.layers import Flatten"
   ]
  },
  {
   "cell_type": "code",
   "execution_count": 6,
   "id": "86ee5ddc",
   "metadata": {},
   "outputs": [
    {
     "name": "stderr",
     "output_type": "stream",
     "text": [
      "C:\\Users\\Asus\\AppData\\Local\\Temp\\ipykernel_11628\\3171058989.py:8: UserWarning: `Model.fit_generator` is deprecated and will be removed in a future version. Please use `Model.fit`, which supports generators.\n",
      "  model.fit_generator(x_train, steps_per_epoch=24, epochs=10, validation_data=x_test, validation_steps=40)\n"
     ]
    },
    {
     "name": "stdout",
     "output_type": "stream",
     "text": [
      "Epoch 1/10\n",
      "24/24 [==============================] - ETA: 0s - loss: 0.8537 - accuracy: 0.7128WARNING:tensorflow:Your input ran out of data; interrupting training. Make sure that your dataset or generator can generate at least `steps_per_epoch * epochs` batches (in this case, 40 batches). You may need to use the repeat() function when building your dataset.\n",
      "24/24 [==============================] - 20s 780ms/step - loss: 0.8537 - accuracy: 0.7128 - val_loss: 0.3427 - val_accuracy: 0.9031\n",
      "Epoch 2/10\n",
      "24/24 [==============================] - 13s 563ms/step - loss: 0.2598 - accuracy: 0.9261\n",
      "Epoch 3/10\n",
      "24/24 [==============================] - 12s 487ms/step - loss: 0.1506 - accuracy: 0.9603\n",
      "Epoch 4/10\n",
      "24/24 [==============================] - 12s 502ms/step - loss: 0.0997 - accuracy: 0.9764\n",
      "Epoch 5/10\n",
      "24/24 [==============================] - 11s 483ms/step - loss: 0.0624 - accuracy: 0.9834\n",
      "Epoch 6/10\n",
      "24/24 [==============================] - 10s 429ms/step - loss: 0.0546 - accuracy: 0.9860\n",
      "Epoch 7/10\n",
      "24/24 [==============================] - 11s 438ms/step - loss: 0.0338 - accuracy: 0.9926\n",
      "Epoch 8/10\n",
      "24/24 [==============================] - 11s 449ms/step - loss: 0.0270 - accuracy: 0.9939\n",
      "Epoch 9/10\n",
      "24/24 [==============================] - 11s 462ms/step - loss: 0.0223 - accuracy: 0.9942\n",
      "Epoch 10/10\n",
      "24/24 [==============================] - 12s 494ms/step - loss: 0.0174 - accuracy: 0.9953\n"
     ]
    },
    {
     "data": {
      "text/plain": [
       "<keras.callbacks.History at 0x27c3a131c40>"
      ]
     },
     "execution_count": 6,
     "metadata": {},
     "output_type": "execute_result"
    }
   ],
   "source": [
    "model = Sequential()\n",
    "model.add(Convolution2D(3,(3,3),input_shape=(64,64,1),activation = 'relu'))\n",
    "model.add(MaxPooling2D(pool_size=(2,2)))\n",
    "model.add(Flatten())\n",
    "model.add(Dense(units=512,activation='relu'))\n",
    "model.add(Dense(units=9,activation='softmax'))\n",
    "model.compile(loss='categorical_crossentropy', optimizer='adam',metrics=['accuracy'])\n",
    "model.fit_generator(x_train, steps_per_epoch=24, epochs=10, validation_data=x_test, validation_steps=40)"
   ]
  },
  {
   "cell_type": "code",
   "execution_count": 7,
   "id": "f4a12e84",
   "metadata": {},
   "outputs": [],
   "source": [
    "model.save('aslpng1.h5')"
   ]
  }
 ],
 "metadata": {
  "kernelspec": {
   "display_name": "Python 3 (ipykernel)",
   "language": "python",
   "name": "python3"
  },
  "language_info": {
   "codemirror_mode": {
    "name": "ipython",
    "version": 3
   },
   "file_extension": ".py",
   "mimetype": "text/x-python",
   "name": "python",
   "nbconvert_exporter": "python",
   "pygments_lexer": "ipython3",
   "version": "3.9.13"
  }
 },
 "nbformat": 4,
 "nbformat_minor": 5
}
