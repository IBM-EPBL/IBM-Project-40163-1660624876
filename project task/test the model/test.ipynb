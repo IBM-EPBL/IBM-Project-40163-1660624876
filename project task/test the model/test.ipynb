{
 "cells": [
  {
   "cell_type": "code",
   "execution_count": 1,
   "id": "dbf6c494",
   "metadata": {},
   "outputs": [],
   "source": [
    "from keras.models import load_model\n",
    "import numpy as np\n",
    "import cv2"
   ]
  },
  {
   "cell_type": "code",
   "execution_count": 2,
   "id": "5db6ba84",
   "metadata": {},
   "outputs": [],
   "source": [
    "model = load_model('aslpng1.h5')"
   ]
  },
  {
   "cell_type": "code",
   "execution_count": 3,
   "id": "067d8fa3",
   "metadata": {},
   "outputs": [],
   "source": [
    "from skimage.transform import resize"
   ]
  },
  {
   "cell_type": "code",
   "execution_count": 4,
   "id": "1d526b03",
   "metadata": {},
   "outputs": [],
   "source": [
    "def detect(frame):\n",
    "  img = resize(frame,(64,64,1))\n",
    "  img = np.expand_dims(img,axis=0)\n",
    "  if(np.max(img)>1):\n",
    "    img = img/255.0\n",
    "  prediction = model.predict(img)\n",
    "  print(prediction)"
   ]
  },
  {
   "cell_type": "code",
   "execution_count": 5,
   "id": "f40a2353",
   "metadata": {},
   "outputs": [],
   "source": [
    "frame = cv2.imread(r\"C:\\Users\\Asus\\Desktop\\Final output\\dataset\\test_set\\G\\1.png\")"
   ]
  },
  {
   "cell_type": "code",
   "execution_count": 6,
   "id": "cd362e8c",
   "metadata": {},
   "outputs": [
    {
     "name": "stdout",
     "output_type": "stream",
     "text": [
      "1/1 [==============================] - 0s 253ms/step\n",
      "[[1.1288961e-08 8.6805402e-10 1.6655580e-06 7.3702728e-09 2.7689546e-09\n",
      "  1.4873203e-08 9.9998462e-01 1.3726827e-05 1.8695134e-09]]\n"
     ]
    }
   ],
   "source": [
    "data = detect(frame)"
   ]
  }
 ],
 "metadata": {
  "kernelspec": {
   "display_name": "Python 3 (ipykernel)",
   "language": "python",
   "name": "python3"
  },
  "language_info": {
   "codemirror_mode": {
    "name": "ipython",
    "version": 3
   },
   "file_extension": ".py",
   "mimetype": "text/x-python",
   "name": "python",
   "nbconvert_exporter": "python",
   "pygments_lexer": "ipython3",
   "version": "3.9.13"
  }
 },
 "nbformat": 4,
 "nbformat_minor": 5
}
